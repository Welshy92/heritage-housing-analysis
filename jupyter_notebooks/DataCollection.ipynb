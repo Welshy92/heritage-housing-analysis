{
  "cells": [
    {
      "source": [
        "# Data Collection Notebook"
      ],
      "cell_type": "markdown",
      "metadata": {}
    },
    {
      "cell_type": "markdown",
      "metadata": {
        "id": "1eLEkw5O0ECa"
      },
      "source": [
        "## Objectives\n",
        "\n",
        "* Fetch data from Kaggle and save it as raw data.\n",
        "* Inspect the data and save it under outputs/datasets/collection\n",
        "\n",
        "## Inputs\n",
        "\n",
        "* Kaggle JSON file - the authentication token. \n",
        "\n",
        "## Outputs\n",
        "\n",
        "* Generate Dataset: outputs/datasets/collection/TelcoCustomerChurn.csv\n",
        "\n",
        "## Additional Comments\n",
        "\n",
        "* Data set can be found [here](https://www.kaggle.com/datasets/codeinstitute/housing-prices-data).\n"
      ]
    },
    {
      "cell_type": "markdown",
      "metadata": {
        "id": "9uWZXH9LwoQg"
      },
      "source": [
        "---"
      ]
    },
    {
      "cell_type": "markdown",
      "metadata": {
        "id": "-mavJ8DibrcQ"
      },
      "source": [
        "# Install python packages in the notebooks"
      ]
    },
    {
      "source": [
        "Make sure the required packages are installed."
      ],
      "cell_type": "markdown",
      "metadata": {}
    },
    {
      "cell_type": "code",
      "execution_count": 2,
      "metadata": {
        "tags": [
          "outputPrepend"
        ]
      },
      "outputs": [
        {
          "output_type": "stream",
          "name": "stdout",
          "text": "e-housing-analysis/requirements.txt (line 14)) (0.24.2)\nRequirement already satisfied: xgboost==1.2.1 in /home/codeany/.local/lib/python3.8/site-packages (from -r /workspaces/heritage-housing-analysis/requirements.txt (line 15)) (1.2.1)\nRequirement already satisfied: yellowbrick==1.3 in /home/codeany/.local/lib/python3.8/site-packages (from -r /workspaces/heritage-housing-analysis/requirements.txt (line 16)) (1.3)\nRequirement already satisfied: Jinja2==3.1.1 in /home/codeany/.local/lib/python3.8/site-packages (from -r /workspaces/heritage-housing-analysis/requirements.txt (line 17)) (3.1.1)\nRequirement already satisfied: MarkupSafe==2.0.1 in /home/codeany/.local/lib/python3.8/site-packages (from -r /workspaces/heritage-housing-analysis/requirements.txt (line 18)) (2.0.1)\nRequirement already satisfied: protobuf==3.20 in /home/codeany/.local/lib/python3.8/site-packages (from -r /workspaces/heritage-housing-analysis/requirements.txt (line 19)) (3.20.0)\nRequirement already satisfied: ipywidgets==8.0.2 in /home/codeany/.local/lib/python3.8/site-packages (from -r /workspaces/heritage-housing-analysis/requirements.txt (line 20)) (8.0.2)\nRequirement already satisfied: python-dateutil>=2.8.1 in /home/codeany/.pyenv/versions/3.8.12/lib/python3.8/site-packages (from pandas==1.4.2->-r /workspaces/heritage-housing-analysis/requirements.txt (line 2)) (2.8.2)\nRequirement already satisfied: pytz>=2020.1 in /home/codeany/.local/lib/python3.8/site-packages (from pandas==1.4.2->-r /workspaces/heritage-housing-analysis/requirements.txt (line 2)) (2023.3)\nRequirement already satisfied: certifi>=2020.06.20 in /home/codeany/.pyenv/versions/3.8.12/lib/python3.8/site-packages (from matplotlib==3.3.1->-r /workspaces/heritage-housing-analysis/requirements.txt (line 3)) (2023.5.7)\nRequirement already satisfied: cycler>=0.10 in /home/codeany/.local/lib/python3.8/site-packages (from matplotlib==3.3.1->-r /workspaces/heritage-housing-analysis/requirements.txt (line 3)) (0.11.0)\nRequirement already satisfied: kiwisolver>=1.0.1 in /home/codeany/.local/lib/python3.8/site-packages (from matplotlib==3.3.1->-r /workspaces/heritage-housing-analysis/requirements.txt (line 3)) (1.4.4)\nRequirement already satisfied: pillow>=6.2.0 in /home/codeany/.local/lib/python3.8/site-packages (from matplotlib==3.3.1->-r /workspaces/heritage-housing-analysis/requirements.txt (line 3)) (9.5.0)\nRequirement already satisfied: pyparsing!=2.0.4,!=2.1.2,!=2.1.6,>=2.0.3 in /home/codeany/.local/lib/python3.8/site-packages (from matplotlib==3.3.1->-r /workspaces/heritage-housing-analysis/requirements.txt (line 3)) (3.1.0)\nRequirement already satisfied: scipy>=1.0 in /home/codeany/.local/lib/python3.8/site-packages (from seaborn==0.11.0->-r /workspaces/heritage-housing-analysis/requirements.txt (line 4)) (1.9.3)\nRequirement already satisfied: joblib~=1.0.1 in /home/codeany/.local/lib/python3.8/site-packages (from pandas-profiling==3.1.0->-r /workspaces/heritage-housing-analysis/requirements.txt (line 5)) (1.0.1)\nRequirement already satisfied: pydantic>=1.8.1 in /home/codeany/.local/lib/python3.8/site-packages (from pandas-profiling==3.1.0->-r /workspaces/heritage-housing-analysis/requirements.txt (line 5)) (1.10.9)\nRequirement already satisfied: PyYAML>=5.0.0 in /home/codeany/.pyenv/versions/3.8.12/lib/python3.8/site-packages (from pandas-profiling==3.1.0->-r /workspaces/heritage-housing-analysis/requirements.txt (line 5)) (6.0)\nRequirement already satisfied: visions[type_image_path]==0.7.4 in /home/codeany/.local/lib/python3.8/site-packages (from pandas-profiling==3.1.0->-r /workspaces/heritage-housing-analysis/requirements.txt (line 5)) (0.7.4)\nRequirement already satisfied: htmlmin>=0.1.12 in /home/codeany/.local/lib/python3.8/site-packages (from pandas-profiling==3.1.0->-r /workspaces/heritage-housing-analysis/requirements.txt (line 5)) (0.1.12)\nRequirement already satisfied: missingno>=0.4.2 in /home/codeany/.local/lib/python3.8/site-packages (from pandas-profiling==3.1.0->-r /workspaces/heritage-housing-analysis/requirements.txt (line 5)) (0.5.2)\nRequirement already satisfied: phik>=0.11.1 in /home/codeany/.local/lib/python3.8/site-packages (from pandas-profiling==3.1.0->-r /workspaces/heritage-housing-analysis/requirements.txt (line 5)) (0.12.3)\nRequirement already satisfied: tangled-up-in-unicode==0.1.0 in /home/codeany/.local/lib/python3.8/site-packages (from pandas-profiling==3.1.0->-r /workspaces/heritage-housing-analysis/requirements.txt (line 5)) (0.1.0)\nRequirement already satisfied: requests>=2.24.0 in /home/codeany/.pyenv/versions/3.8.12/lib/python3.8/site-packages (from pandas-profiling==3.1.0->-r /workspaces/heritage-housing-analysis/requirements.txt (line 5)) (2.31.0)\nRequirement already satisfied: tqdm>=4.48.2 in /home/codeany/.local/lib/python3.8/site-packages (from pandas-profiling==3.1.0->-r /workspaces/heritage-housing-analysis/requirements.txt (line 5)) (4.65.0)\nRequirement already satisfied: multimethod>=1.4 in /home/codeany/.local/lib/python3.8/site-packages (from pandas-profiling==3.1.0->-r /workspaces/heritage-housing-analysis/requirements.txt (line 5)) (1.9.1)\nRequirement already satisfied: retrying>=1.3.3 in /home/codeany/.local/lib/python3.8/site-packages (from plotly==4.12.0->-r /workspaces/heritage-housing-analysis/requirements.txt (line 6)) (1.3.4)\nRequirement already satisfied: six in /home/codeany/.pyenv/versions/3.8.12/lib/python3.8/site-packages (from plotly==4.12.0->-r /workspaces/heritage-housing-analysis/requirements.txt (line 6)) (1.16.0)\nRequirement already satisfied: astor in /home/codeany/.local/lib/python3.8/site-packages (from streamlit==0.85.0->-r /workspaces/heritage-housing-analysis/requirements.txt (line 9)) (0.8.1)\nRequirement already satisfied: attrs in /home/codeany/.pyenv/versions/3.8.12/lib/python3.8/site-packages (from streamlit==0.85.0->-r /workspaces/heritage-housing-analysis/requirements.txt (line 9)) (23.1.0)\nRequirement already satisfied: base58 in /home/codeany/.local/lib/python3.8/site-packages (from streamlit==0.85.0->-r /workspaces/heritage-housing-analysis/requirements.txt (line 9)) (2.1.1)\nRequirement already satisfied: blinker in /home/codeany/.local/lib/python3.8/site-packages (from streamlit==0.85.0->-r /workspaces/heritage-housing-analysis/requirements.txt (line 9)) (1.6.2)\nRequirement already satisfied: cachetools>=4.0 in /home/codeany/.local/lib/python3.8/site-packages (from streamlit==0.85.0->-r /workspaces/heritage-housing-analysis/requirements.txt (line 9)) (5.3.1)\nRequirement already satisfied: click<8.0,>=7.0 in /home/codeany/.local/lib/python3.8/site-packages (from streamlit==0.85.0->-r /workspaces/heritage-housing-analysis/requirements.txt (line 9)) (7.1.2)\nRequirement already satisfied: packaging in /home/codeany/.pyenv/versions/3.8.12/lib/python3.8/site-packages (from streamlit==0.85.0->-r /workspaces/heritage-housing-analysis/requirements.txt (line 9)) (23.1)\nRequirement already satisfied: pyarrow in /home/codeany/.local/lib/python3.8/site-packages (from streamlit==0.85.0->-r /workspaces/heritage-housing-analysis/requirements.txt (line 9)) (12.0.1)\nRequirement already satisfied: pydeck>=0.1.dev5 in /home/codeany/.local/lib/python3.8/site-packages (from streamlit==0.85.0->-r /workspaces/heritage-housing-analysis/requirements.txt (line 9)) (0.8.1b0)\nRequirement already satisfied: toml in /home/codeany/.local/lib/python3.8/site-packages (from streamlit==0.85.0->-r /workspaces/heritage-housing-analysis/requirements.txt (line 9)) (0.10.2)\nRequirement already satisfied: tornado>=5.0 in /home/codeany/.pyenv/versions/3.8.12/lib/python3.8/site-packages (from streamlit==0.85.0->-r /workspaces/heritage-housing-analysis/requirements.txt (line 9)) (6.3.2)\nRequirement already satisfied: tzlocal in /home/codeany/.local/lib/python3.8/site-packages (from streamlit==0.85.0->-r /workspaces/heritage-housing-analysis/requirements.txt (line 9)) (5.0.1)\nRequirement already satisfied: validators in /home/codeany/.local/lib/python3.8/site-packages (from streamlit==0.85.0->-r /workspaces/heritage-housing-analysis/requirements.txt (line 9)) (0.20.0)\nRequirement already satisfied: gitpython in /home/codeany/.pyenv/versions/3.8.12/lib/python3.8/site-packages (from streamlit==0.85.0->-r /workspaces/heritage-housing-analysis/requirements.txt (line 9)) (3.1.31)\nRequirement already satisfied: watchdog in /home/codeany/.local/lib/python3.8/site-packages (from streamlit==0.85.0->-r /workspaces/heritage-housing-analysis/requirements.txt (line 9)) (3.0.0)\nRequirement already satisfied: statsmodels>=0.11.1 in /home/codeany/.local/lib/python3.8/site-packages (from feature-engine==1.0.2->-r /workspaces/heritage-housing-analysis/requirements.txt (line 12)) (0.14.0)\nRequirement already satisfied: threadpoolctl>=2.0.0 in /home/codeany/.local/lib/python3.8/site-packages (from scikit-learn==0.24.2->-r /workspaces/heritage-housing-analysis/requirements.txt (line 14)) (3.1.0)\nRequirement already satisfied: ipykernel>=4.5.1 in /home/codeany/.pyenv/versions/3.8.12/lib/python3.8/site-packages (from ipywidgets==8.0.2->-r /workspaces/heritage-housing-analysis/requirements.txt (line 20)) (6.23.3)\nRequirement already satisfied: ipython>=6.1.0 in /home/codeany/.pyenv/versions/3.8.12/lib/python3.8/site-packages (from ipywidgets==8.0.2->-r /workspaces/heritage-housing-analysis/requirements.txt (line 20)) (8.12.2)\nRequirement already satisfied: traitlets>=4.3.1 in /home/codeany/.pyenv/versions/3.8.12/lib/python3.8/site-packages (from ipywidgets==8.0.2->-r /workspaces/heritage-housing-analysis/requirements.txt (line 20)) (5.9.0)\nRequirement already satisfied: widgetsnbextension~=4.0 in /home/codeany/.pyenv/versions/3.8.12/lib/python3.8/site-packages (from ipywidgets==8.0.2->-r /workspaces/heritage-housing-analysis/requirements.txt (line 20)) (4.0.7)\nRequirement already satisfied: jupyterlab-widgets~=3.0 in /home/codeany/.pyenv/versions/3.8.12/lib/python3.8/site-packages (from ipywidgets==8.0.2->-r /workspaces/heritage-housing-analysis/requirements.txt (line 20)) (3.0.7)\nRequirement already satisfied: networkx>=2.4 in /home/codeany/.local/lib/python3.8/site-packages (from visions[type_image_path]==0.7.4->pandas-profiling==3.1.0->-r /workspaces/heritage-housing-analysis/requirements.txt (line 5)) (3.1)\nRequirement already satisfied: imagehash in /home/codeany/.local/lib/python3.8/site-packages (from visions[type_image_path]==0.7.4->pandas-profiling==3.1.0->-r /workspaces/heritage-housing-analysis/requirements.txt (line 5)) (4.3.1)\nRequirement already satisfied: entrypoints in /home/codeany/.local/lib/python3.8/site-packages (from altair<5->-r /workspaces/heritage-housing-analysis/requirements.txt (line 10)) (0.4)\nRequirement already satisfied: jsonschema>=3.0 in /home/codeany/.pyenv/versions/3.8.12/lib/python3.8/site-packages (from altair<5->-r /workspaces/heritage-housing-analysis/requirements.txt (line 10)) (4.17.3)\nRequirement already satisfied: toolz in /home/codeany/.local/lib/python3.8/site-packages (from altair<5->-r /workspaces/heritage-housing-analysis/requirements.txt (line 10)) (0.12.0)\nRequirement already satisfied: comm>=0.1.1 in /home/codeany/.pyenv/versions/3.8.12/lib/python3.8/site-packages (from ipykernel>=4.5.1->ipywidgets==8.0.2->-r /workspaces/heritage-housing-analysis/requirements.txt (line 20)) (0.1.3)\nRequirement already satisfied: debugpy>=1.6.5 in /home/codeany/.pyenv/versions/3.8.12/lib/python3.8/site-packages (from ipykernel>=4.5.1->ipywidgets==8.0.2->-r /workspaces/heritage-housing-analysis/requirements.txt (line 20)) (1.6.7)\nRequirement already satisfied: jupyter-client>=6.1.12 in /home/codeany/.pyenv/versions/3.8.12/lib/python3.8/site-packages (from ipykernel>=4.5.1->ipywidgets==8.0.2->-r /workspaces/heritage-housing-analysis/requirements.txt (line 20)) (8.3.0)\nRequirement already satisfied: jupyter-core!=5.0.*,>=4.12 in /home/codeany/.pyenv/versions/3.8.12/lib/python3.8/site-packages (from ipykernel>=4.5.1->ipywidgets==8.0.2->-r /workspaces/heritage-housing-analysis/requirements.txt (line 20)) (5.3.1)\nRequirement already satisfied: matplotlib-inline>=0.1 in /home/codeany/.pyenv/versions/3.8.12/lib/python3.8/site-packages (from ipykernel>=4.5.1->ipywidgets==8.0.2->-r /workspaces/heritage-housing-analysis/requirements.txt (line 20)) (0.1.6)\nRequirement already satisfied: nest-asyncio in /home/codeany/.pyenv/versions/3.8.12/lib/python3.8/site-packages (from ipykernel>=4.5.1->ipywidgets==8.0.2->-r /workspaces/heritage-housing-analysis/requirements.txt (line 20)) (1.5.6)\nRequirement already satisfied: psutil in /home/codeany/.pyenv/versions/3.8.12/lib/python3.8/site-packages (from ipykernel>=4.5.1->ipywidgets==8.0.2->-r /workspaces/heritage-housing-analysis/requirements.txt (line 20)) (5.9.5)\nRequirement already satisfied: pyzmq>=20 in /home/codeany/.pyenv/versions/3.8.12/lib/python3.8/site-packages (from ipykernel>=4.5.1->ipywidgets==8.0.2->-r /workspaces/heritage-housing-analysis/requirements.txt (line 20)) (25.1.0)\nRequirement already satisfied: backcall in /home/codeany/.pyenv/versions/3.8.12/lib/python3.8/site-packages (from ipython>=6.1.0->ipywidgets==8.0.2->-r /workspaces/heritage-housing-analysis/requirements.txt (line 20)) (0.2.0)\nRequirement already satisfied: decorator in /home/codeany/.pyenv/versions/3.8.12/lib/python3.8/site-packages (from ipython>=6.1.0->ipywidgets==8.0.2->-r /workspaces/heritage-housing-analysis/requirements.txt (line 20)) (5.1.1)\nRequirement already satisfied: jedi>=0.16 in /home/codeany/.pyenv/versions/3.8.12/lib/python3.8/site-packages (from ipython>=6.1.0->ipywidgets==8.0.2->-r /workspaces/heritage-housing-analysis/requirements.txt (line 20)) (0.18.2)\nRequirement already satisfied: pickleshare in /home/codeany/.pyenv/versions/3.8.12/lib/python3.8/site-packages (from ipython>=6.1.0->ipywidgets==8.0.2->-r /workspaces/heritage-housing-analysis/requirements.txt (line 20)) (0.7.5)\nRequirement already satisfied: prompt-toolkit!=3.0.37,<3.1.0,>=3.0.30 in /home/codeany/.pyenv/versions/3.8.12/lib/python3.8/site-packages (from ipython>=6.1.0->ipywidgets==8.0.2->-r /workspaces/heritage-housing-analysis/requirements.txt (line 20)) (3.0.38)\nRequirement already satisfied: pygments>=2.4.0 in /home/codeany/.pyenv/versions/3.8.12/lib/python3.8/site-packages (from ipython>=6.1.0->ipywidgets==8.0.2->-r /workspaces/heritage-housing-analysis/requirements.txt (line 20)) (2.15.1)\nRequirement already satisfied: stack-data in /home/codeany/.pyenv/versions/3.8.12/lib/python3.8/site-packages (from ipython>=6.1.0->ipywidgets==8.0.2->-r /workspaces/heritage-housing-analysis/requirements.txt (line 20)) (0.6.2)\nRequirement already satisfied: typing-extensions in /home/codeany/.pyenv/versions/3.8.12/lib/python3.8/site-packages (from ipython>=6.1.0->ipywidgets==8.0.2->-r /workspaces/heritage-housing-analysis/requirements.txt (line 20)) (4.6.3)\nRequirement already satisfied: pexpect>4.3 in /home/codeany/.pyenv/versions/3.8.12/lib/python3.8/site-packages (from ipython>=6.1.0->ipywidgets==8.0.2->-r /workspaces/heritage-housing-analysis/requirements.txt (line 20)) (4.8.0)\nRequirement already satisfied: importlib-resources>=1.4.0 in /home/codeany/.pyenv/versions/3.8.12/lib/python3.8/site-packages (from jsonschema>=3.0->altair<5->-r /workspaces/heritage-housing-analysis/requirements.txt (line 10)) (5.12.0)\nRequirement already satisfied: pkgutil-resolve-name>=1.3.10 in /home/codeany/.pyenv/versions/3.8.12/lib/python3.8/site-packages (from jsonschema>=3.0->altair<5->-r /workspaces/heritage-housing-analysis/requirements.txt (line 10)) (1.3.10)\nRequirement already satisfied: pyrsistent!=0.17.0,!=0.17.1,!=0.17.2,>=0.14.0 in /home/codeany/.pyenv/versions/3.8.12/lib/python3.8/site-packages (from jsonschema>=3.0->altair<5->-r /workspaces/heritage-housing-analysis/requirements.txt (line 10)) (0.19.3)\nRequirement already satisfied: charset-normalizer<4,>=2 in /home/codeany/.pyenv/versions/3.8.12/lib/python3.8/site-packages (from requests>=2.24.0->pandas-profiling==3.1.0->-r /workspaces/heritage-housing-analysis/requirements.txt (line 5)) (3.1.0)\nRequirement already satisfied: idna<4,>=2.5 in /home/codeany/.pyenv/versions/3.8.12/lib/python3.8/site-packages (from requests>=2.24.0->pandas-profiling==3.1.0->-r /workspaces/heritage-housing-analysis/requirements.txt (line 5)) (3.4)\nRequirement already satisfied: urllib3<3,>=1.21.1 in /home/codeany/.pyenv/versions/3.8.12/lib/python3.8/site-packages (from requests>=2.24.0->pandas-profiling==3.1.0->-r /workspaces/heritage-housing-analysis/requirements.txt (line 5)) (2.0.3)\nRequirement already satisfied: patsy>=0.5.2 in /home/codeany/.local/lib/python3.8/site-packages (from statsmodels>=0.11.1->feature-engine==1.0.2->-r /workspaces/heritage-housing-analysis/requirements.txt (line 12)) (0.5.3)\nRequirement already satisfied: gitdb<5,>=4.0.1 in /home/codeany/.pyenv/versions/3.8.12/lib/python3.8/site-packages (from gitpython->streamlit==0.85.0->-r /workspaces/heritage-housing-analysis/requirements.txt (line 9)) (4.0.10)\nRequirement already satisfied: backports.zoneinfo in /home/codeany/.local/lib/python3.8/site-packages (from tzlocal->streamlit==0.85.0->-r /workspaces/heritage-housing-analysis/requirements.txt (line 9)) (0.2.1)\nRequirement already satisfied: smmap<6,>=3.0.1 in /home/codeany/.pyenv/versions/3.8.12/lib/python3.8/site-packages (from gitdb<5,>=4.0.1->gitpython->streamlit==0.85.0->-r /workspaces/heritage-housing-analysis/requirements.txt (line 9)) (5.0.0)\nRequirement already satisfied: zipp>=3.1.0 in /home/codeany/.pyenv/versions/3.8.12/lib/python3.8/site-packages (from importlib-resources>=1.4.0->jsonschema>=3.0->altair<5->-r /workspaces/heritage-housing-analysis/requirements.txt (line 10)) (3.15.0)\nRequirement already satisfied: parso<0.9.0,>=0.8.0 in /home/codeany/.pyenv/versions/3.8.12/lib/python3.8/site-packages (from jedi>=0.16->ipython>=6.1.0->ipywidgets==8.0.2->-r /workspaces/heritage-housing-analysis/requirements.txt (line 20)) (0.8.3)\nRequirement already satisfied: importlib-metadata>=4.8.3 in /home/codeany/.pyenv/versions/3.8.12/lib/python3.8/site-packages (from jupyter-client>=6.1.12->ipykernel>=4.5.1->ipywidgets==8.0.2->-r /workspaces/heritage-housing-analysis/requirements.txt (line 20)) (6.7.0)\nRequirement already satisfied: platformdirs>=2.5 in /home/codeany/.pyenv/versions/3.8.12/lib/python3.8/site-packages (from jupyter-core!=5.0.*,>=4.12->ipykernel>=4.5.1->ipywidgets==8.0.2->-r /workspaces/heritage-housing-analysis/requirements.txt (line 20)) (3.8.0)\nRequirement already satisfied: ptyprocess>=0.5 in /home/codeany/.pyenv/versions/3.8.12/lib/python3.8/site-packages (from pexpect>4.3->ipython>=6.1.0->ipywidgets==8.0.2->-r /workspaces/heritage-housing-analysis/requirements.txt (line 20)) (0.7.0)\nRequirement already satisfied: wcwidth in /home/codeany/.pyenv/versions/3.8.12/lib/python3.8/site-packages (from prompt-toolkit!=3.0.37,<3.1.0,>=3.0.30->ipython>=6.1.0->ipywidgets==8.0.2->-r /workspaces/heritage-housing-analysis/requirements.txt (line 20)) (0.2.6)\nRequirement already satisfied: PyWavelets in /home/codeany/.local/lib/python3.8/site-packages (from imagehash->visions[type_image_path]==0.7.4->pandas-profiling==3.1.0->-r /workspaces/heritage-housing-analysis/requirements.txt (line 5)) (1.4.1)\nRequirement already satisfied: executing>=1.2.0 in /home/codeany/.pyenv/versions/3.8.12/lib/python3.8/site-packages (from stack-data->ipython>=6.1.0->ipywidgets==8.0.2->-r /workspaces/heritage-housing-analysis/requirements.txt (line 20)) (1.2.0)\nRequirement already satisfied: asttokens>=2.1.0 in /home/codeany/.pyenv/versions/3.8.12/lib/python3.8/site-packages (from stack-data->ipython>=6.1.0->ipywidgets==8.0.2->-r /workspaces/heritage-housing-analysis/requirements.txt (line 20)) (2.2.1)\nRequirement already satisfied: pure-eval in /home/codeany/.pyenv/versions/3.8.12/lib/python3.8/site-packages (from stack-data->ipython>=6.1.0->ipywidgets==8.0.2->-r /workspaces/heritage-housing-analysis/requirements.txt (line 20)) (0.2.2)\nNote: you may need to restart the kernel to use updated packages.\n"
        }
      ],
      "source": [
        "%pip install -r /workspaces/heritage-housing-analysis/requirements.txt"
      ]
    },
    {
      "cell_type": "markdown",
      "metadata": {
        "id": "cqP-UeN-z3i2"
      },
      "source": [
        "# Change working directory"
      ]
    },
    {
      "cell_type": "markdown",
      "metadata": {
        "id": "aOGIGS-uz3i2"
      },
      "source": [
        "We need to change the working directory from its current folder to its parent folder\n",
        "* We access the current directory with os.getcwd()"
      ]
    },
    {
      "cell_type": "code",
      "execution_count": 1,
      "metadata": {
        "id": "wZfF_j-Bz3i4",
        "outputId": "66943449-1436-4c3d-85c7-b85f9f78349b"
      },
      "outputs": [
        {
          "output_type": "execute_result",
          "data": {
            "text/plain": "'/workspaces/heritage-housing-analysis/jupyter_notebooks'"
          },
          "metadata": {},
          "execution_count": 1
        }
      ],
      "source": [
        "import os\n",
        "current_dir = os.getcwd()\n",
        "current_dir"
      ]
    },
    {
      "cell_type": "markdown",
      "metadata": {
        "id": "9MWW8E7lz3i7"
      },
      "source": [
        "We want to make the parent of the current directory the new current directory\n",
        "* os.path.dirname() gets the parent directory\n",
        "* os.chir() defines the new current directory"
      ]
    },
    {
      "cell_type": "code",
      "execution_count": 2,
      "metadata": {
        "id": "TwHsQRWjz3i9",
        "outputId": "86849db3-cd2f-4cc5-ebb8-2d0caafa1a2c",
        "tags": []
      },
      "outputs": [
        {
          "output_type": "stream",
          "name": "stdout",
          "text": "You set a new current directory\n"
        }
      ],
      "source": [
        "os.chdir(os.path.dirname(current_dir))\n",
        "print(\"You set a new current directory\")"
      ]
    },
    {
      "cell_type": "markdown",
      "metadata": {
        "id": "M_xPk_Ijz3i-"
      },
      "source": [
        "Confirm the new current directory"
      ]
    },
    {
      "cell_type": "code",
      "execution_count": 3,
      "metadata": {
        "id": "vz3S-_kjz3jA",
        "outputId": "00b79ae4-75d0-4a96-d193-ac9ef9847ea2"
      },
      "outputs": [
        {
          "output_type": "execute_result",
          "data": {
            "text/plain": "'/workspaces/heritage-housing-analysis'"
          },
          "metadata": {},
          "execution_count": 3
        }
      ],
      "source": [
        "current_dir = os.getcwd()\n",
        "current_dir"
      ]
    },
    {
      "cell_type": "markdown",
      "metadata": {},
      "source": [
        "Section 1 content"
      ]
    },
    {
      "cell_type": "code",
      "execution_count": null,
      "metadata": {},
      "outputs": [],
      "source": []
    },
    {
      "cell_type": "markdown",
      "metadata": {
        "id": "ZY3l0-AxO93d"
      },
      "source": [
        "---"
      ]
    },
    {
      "cell_type": "markdown",
      "metadata": {
        "id": "uFQo3ycuO-v6"
      },
      "source": [
        "# Section 2"
      ]
    },
    {
      "cell_type": "markdown",
      "metadata": {},
      "source": [
        "Section 2 content"
      ]
    },
    {
      "cell_type": "code",
      "execution_count": null,
      "metadata": {},
      "outputs": [],
      "source": []
    },
    {
      "cell_type": "markdown",
      "metadata": {},
      "source": [
        "---"
      ]
    },
    {
      "cell_type": "markdown",
      "metadata": {},
      "source": [
        "NOTE"
      ]
    },
    {
      "cell_type": "markdown",
      "metadata": {},
      "source": [
        "* You may add as many sections as you want, as long as they support your project workflow.\n",
        "* All notebook's cells should be run top-down (you can't create a dynamic wherein a given point you need to go back to a previous cell to execute some task, like go back to a previous cell and refresh a variable content)"
      ]
    },
    {
      "cell_type": "markdown",
      "metadata": {},
      "source": [
        "---"
      ]
    },
    {
      "cell_type": "markdown",
      "metadata": {
        "id": "ltNetd085qHf"
      },
      "source": [
        "# Push files to Repo"
      ]
    },
    {
      "cell_type": "markdown",
      "metadata": {},
      "source": [
        "* If you do not need to push files to Repo, you may replace this section with \"Conclusions and Next Steps\" and state your conclusions and next steps."
      ]
    },
    {
      "cell_type": "code",
      "execution_count": null,
      "metadata": {
        "id": "aKlnIozA4eQO",
        "outputId": "fd09bc1f-adb1-4511-f6ce-492a6af570c0"
      },
      "outputs": [],
      "source": [
        "import os\n",
        "try:\n",
        "  # create here your folder\n",
        "  # os.makedirs(name='')\n",
        "except Exception as e:\n",
        "  print(e)\n"
      ]
    }
  ],
  "metadata": {
    "accelerator": "GPU",
    "colab": {
      "name": "Data Practitioner Jupyter Notebook.ipynb",
      "provenance": [],
      "toc_visible": true
    },
    "interpreter": {
      "hash": "8b8334dab9339717f727a1deaf837b322d7a41c20d15cc86be99a8e69ceec8ce"
    },
    "kernelspec": {
      "display_name": "Python 3.8.12 64-bit ('3.8.12': pyenv)",
      "name": "python381264bit3812pyenv94c92ee8e906455785fd2378d26e9baf"
    },
    "language_info": {
      "codemirror_mode": {
        "name": "ipython",
        "version": 3
      },
      "file_extension": ".py",
      "mimetype": "text/x-python",
      "name": "python",
      "nbconvert_exporter": "python",
      "pygments_lexer": "ipython3",
      "version": "3.8.12-final"
    },
    "orig_nbformat": 2
  },
  "nbformat": 4,
  "nbformat_minor": 2
}