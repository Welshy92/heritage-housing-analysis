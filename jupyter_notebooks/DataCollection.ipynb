{
  "cells": [
    {
      "source": [
        "# Data Collection Notebook"
      ],
      "cell_type": "markdown",
      "metadata": {}
    },
    {
      "cell_type": "markdown",
      "metadata": {
        "id": "1eLEkw5O0ECa"
      },
      "source": [
        "## Objectives\n",
        "\n",
        "* Fetch data from Kaggle and save it as raw data.\n",
        "* Inspect the data and save it under outputs/datasets/collection\n",
        "\n",
        "## Inputs\n",
        "\n",
        "* Kaggle JSON file - the authentication token. \n",
        "\n",
        "## Outputs\n",
        "\n",
        "* Generate Dataset: outputs/datasets/collection/TelcoCustomerChurn.csv\n",
        "\n",
        "## Additional Comments\n",
        "\n",
        "* Data set can be found [here](https://www.kaggle.com/datasets/codeinstitute/housing-prices-data).\n"
      ]
    },
    {
      "cell_type": "markdown",
      "metadata": {
        "id": "9uWZXH9LwoQg"
      },
      "source": [
        "---"
      ]
    },
    {
      "cell_type": "markdown",
      "metadata": {
        "id": "-mavJ8DibrcQ"
      },
      "source": [
        "# Install python packages + changing directory"
      ]
    },
    {
      "source": [
        "Make sure the required packages are installed."
      ],
      "cell_type": "markdown",
      "metadata": {}
    },
    {
      "cell_type": "code",
      "execution_count": 1,
      "metadata": {
        "tags": [
          "outputPrepend"
        ]
      },
      "outputs": [
        {
          "output_type": "stream",
          "name": "stdout",
          "text": "e-housing-analysis/requirements.txt (line 14)) (0.24.2)\nRequirement already satisfied: xgboost==1.2.1 in /home/codeany/.local/lib/python3.8/site-packages (from -r /workspaces/heritage-housing-analysis/requirements.txt (line 15)) (1.2.1)\nRequirement already satisfied: yellowbrick==1.3 in /home/codeany/.local/lib/python3.8/site-packages (from -r /workspaces/heritage-housing-analysis/requirements.txt (line 16)) (1.3)\nRequirement already satisfied: Jinja2==3.1.1 in /home/codeany/.local/lib/python3.8/site-packages (from -r /workspaces/heritage-housing-analysis/requirements.txt (line 17)) (3.1.1)\nRequirement already satisfied: MarkupSafe==2.0.1 in /home/codeany/.local/lib/python3.8/site-packages (from -r /workspaces/heritage-housing-analysis/requirements.txt (line 18)) (2.0.1)\nRequirement already satisfied: protobuf==3.20 in /home/codeany/.local/lib/python3.8/site-packages (from -r /workspaces/heritage-housing-analysis/requirements.txt (line 19)) (3.20.0)\nRequirement already satisfied: ipywidgets==8.0.2 in /home/codeany/.local/lib/python3.8/site-packages (from -r /workspaces/heritage-housing-analysis/requirements.txt (line 20)) (8.0.2)\nRequirement already satisfied: python-dateutil>=2.8.1 in /home/codeany/.pyenv/versions/3.8.12/lib/python3.8/site-packages (from pandas==1.4.2->-r /workspaces/heritage-housing-analysis/requirements.txt (line 2)) (2.8.2)\nRequirement already satisfied: pytz>=2020.1 in /home/codeany/.local/lib/python3.8/site-packages (from pandas==1.4.2->-r /workspaces/heritage-housing-analysis/requirements.txt (line 2)) (2023.3)\nRequirement already satisfied: certifi>=2020.06.20 in /home/codeany/.pyenv/versions/3.8.12/lib/python3.8/site-packages (from matplotlib==3.3.1->-r /workspaces/heritage-housing-analysis/requirements.txt (line 3)) (2023.5.7)\nRequirement already satisfied: cycler>=0.10 in /home/codeany/.local/lib/python3.8/site-packages (from matplotlib==3.3.1->-r /workspaces/heritage-housing-analysis/requirements.txt (line 3)) (0.11.0)\nRequirement already satisfied: kiwisolver>=1.0.1 in /home/codeany/.local/lib/python3.8/site-packages (from matplotlib==3.3.1->-r /workspaces/heritage-housing-analysis/requirements.txt (line 3)) (1.4.4)\nRequirement already satisfied: pillow>=6.2.0 in /home/codeany/.local/lib/python3.8/site-packages (from matplotlib==3.3.1->-r /workspaces/heritage-housing-analysis/requirements.txt (line 3)) (9.5.0)\nRequirement already satisfied: pyparsing!=2.0.4,!=2.1.2,!=2.1.6,>=2.0.3 in /home/codeany/.local/lib/python3.8/site-packages (from matplotlib==3.3.1->-r /workspaces/heritage-housing-analysis/requirements.txt (line 3)) (3.1.0)\nRequirement already satisfied: scipy>=1.0 in /home/codeany/.local/lib/python3.8/site-packages (from seaborn==0.11.0->-r /workspaces/heritage-housing-analysis/requirements.txt (line 4)) (1.9.3)\nRequirement already satisfied: joblib~=1.0.1 in /home/codeany/.local/lib/python3.8/site-packages (from pandas-profiling==3.1.0->-r /workspaces/heritage-housing-analysis/requirements.txt (line 5)) (1.0.1)\nRequirement already satisfied: pydantic>=1.8.1 in /home/codeany/.local/lib/python3.8/site-packages (from pandas-profiling==3.1.0->-r /workspaces/heritage-housing-analysis/requirements.txt (line 5)) (1.10.9)\nRequirement already satisfied: PyYAML>=5.0.0 in /home/codeany/.pyenv/versions/3.8.12/lib/python3.8/site-packages (from pandas-profiling==3.1.0->-r /workspaces/heritage-housing-analysis/requirements.txt (line 5)) (6.0)\nRequirement already satisfied: visions[type_image_path]==0.7.4 in /home/codeany/.local/lib/python3.8/site-packages (from pandas-profiling==3.1.0->-r /workspaces/heritage-housing-analysis/requirements.txt (line 5)) (0.7.4)\nRequirement already satisfied: htmlmin>=0.1.12 in /home/codeany/.local/lib/python3.8/site-packages (from pandas-profiling==3.1.0->-r /workspaces/heritage-housing-analysis/requirements.txt (line 5)) (0.1.12)\nRequirement already satisfied: missingno>=0.4.2 in /home/codeany/.local/lib/python3.8/site-packages (from pandas-profiling==3.1.0->-r /workspaces/heritage-housing-analysis/requirements.txt (line 5)) (0.5.2)\nRequirement already satisfied: phik>=0.11.1 in /home/codeany/.local/lib/python3.8/site-packages (from pandas-profiling==3.1.0->-r /workspaces/heritage-housing-analysis/requirements.txt (line 5)) (0.12.3)\nRequirement already satisfied: tangled-up-in-unicode==0.1.0 in /home/codeany/.local/lib/python3.8/site-packages (from pandas-profiling==3.1.0->-r /workspaces/heritage-housing-analysis/requirements.txt (line 5)) (0.1.0)\nRequirement already satisfied: requests>=2.24.0 in /home/codeany/.pyenv/versions/3.8.12/lib/python3.8/site-packages (from pandas-profiling==3.1.0->-r /workspaces/heritage-housing-analysis/requirements.txt (line 5)) (2.31.0)\nRequirement already satisfied: tqdm>=4.48.2 in /home/codeany/.local/lib/python3.8/site-packages (from pandas-profiling==3.1.0->-r /workspaces/heritage-housing-analysis/requirements.txt (line 5)) (4.65.0)\nRequirement already satisfied: multimethod>=1.4 in /home/codeany/.local/lib/python3.8/site-packages (from pandas-profiling==3.1.0->-r /workspaces/heritage-housing-analysis/requirements.txt (line 5)) (1.9.1)\nRequirement already satisfied: retrying>=1.3.3 in /home/codeany/.local/lib/python3.8/site-packages (from plotly==4.12.0->-r /workspaces/heritage-housing-analysis/requirements.txt (line 6)) (1.3.4)\nRequirement already satisfied: six in /home/codeany/.pyenv/versions/3.8.12/lib/python3.8/site-packages (from plotly==4.12.0->-r /workspaces/heritage-housing-analysis/requirements.txt (line 6)) (1.16.0)\nRequirement already satisfied: astor in /home/codeany/.local/lib/python3.8/site-packages (from streamlit==0.85.0->-r /workspaces/heritage-housing-analysis/requirements.txt (line 9)) (0.8.1)\nRequirement already satisfied: attrs in /home/codeany/.pyenv/versions/3.8.12/lib/python3.8/site-packages (from streamlit==0.85.0->-r /workspaces/heritage-housing-analysis/requirements.txt (line 9)) (23.1.0)\nRequirement already satisfied: base58 in /home/codeany/.local/lib/python3.8/site-packages (from streamlit==0.85.0->-r /workspaces/heritage-housing-analysis/requirements.txt (line 9)) (2.1.1)\nRequirement already satisfied: blinker in /home/codeany/.local/lib/python3.8/site-packages (from streamlit==0.85.0->-r /workspaces/heritage-housing-analysis/requirements.txt (line 9)) (1.6.2)\nRequirement already satisfied: cachetools>=4.0 in /home/codeany/.local/lib/python3.8/site-packages (from streamlit==0.85.0->-r /workspaces/heritage-housing-analysis/requirements.txt (line 9)) (5.3.1)\nRequirement already satisfied: click<8.0,>=7.0 in /home/codeany/.local/lib/python3.8/site-packages (from streamlit==0.85.0->-r /workspaces/heritage-housing-analysis/requirements.txt (line 9)) (7.1.2)\nRequirement already satisfied: packaging in /home/codeany/.pyenv/versions/3.8.12/lib/python3.8/site-packages (from streamlit==0.85.0->-r /workspaces/heritage-housing-analysis/requirements.txt (line 9)) (23.1)\nRequirement already satisfied: pyarrow in /home/codeany/.local/lib/python3.8/site-packages (from streamlit==0.85.0->-r /workspaces/heritage-housing-analysis/requirements.txt (line 9)) (12.0.1)\nRequirement already satisfied: pydeck>=0.1.dev5 in /home/codeany/.local/lib/python3.8/site-packages (from streamlit==0.85.0->-r /workspaces/heritage-housing-analysis/requirements.txt (line 9)) (0.8.1b0)\nRequirement already satisfied: toml in /home/codeany/.local/lib/python3.8/site-packages (from streamlit==0.85.0->-r /workspaces/heritage-housing-analysis/requirements.txt (line 9)) (0.10.2)\nRequirement already satisfied: tornado>=5.0 in /home/codeany/.pyenv/versions/3.8.12/lib/python3.8/site-packages (from streamlit==0.85.0->-r /workspaces/heritage-housing-analysis/requirements.txt (line 9)) (6.3.2)\nRequirement already satisfied: tzlocal in /home/codeany/.local/lib/python3.8/site-packages (from streamlit==0.85.0->-r /workspaces/heritage-housing-analysis/requirements.txt (line 9)) (5.0.1)\nRequirement already satisfied: validators in /home/codeany/.local/lib/python3.8/site-packages (from streamlit==0.85.0->-r /workspaces/heritage-housing-analysis/requirements.txt (line 9)) (0.20.0)\nRequirement already satisfied: gitpython in /home/codeany/.pyenv/versions/3.8.12/lib/python3.8/site-packages (from streamlit==0.85.0->-r /workspaces/heritage-housing-analysis/requirements.txt (line 9)) (3.1.31)\nRequirement already satisfied: watchdog in /home/codeany/.local/lib/python3.8/site-packages (from streamlit==0.85.0->-r /workspaces/heritage-housing-analysis/requirements.txt (line 9)) (3.0.0)\nRequirement already satisfied: statsmodels>=0.11.1 in /home/codeany/.local/lib/python3.8/site-packages (from feature-engine==1.0.2->-r /workspaces/heritage-housing-analysis/requirements.txt (line 12)) (0.14.0)\nRequirement already satisfied: threadpoolctl>=2.0.0 in /home/codeany/.local/lib/python3.8/site-packages (from scikit-learn==0.24.2->-r /workspaces/heritage-housing-analysis/requirements.txt (line 14)) (3.1.0)\nRequirement already satisfied: ipykernel>=4.5.1 in /home/codeany/.pyenv/versions/3.8.12/lib/python3.8/site-packages (from ipywidgets==8.0.2->-r /workspaces/heritage-housing-analysis/requirements.txt (line 20)) (6.23.3)\nRequirement already satisfied: ipython>=6.1.0 in /home/codeany/.pyenv/versions/3.8.12/lib/python3.8/site-packages (from ipywidgets==8.0.2->-r /workspaces/heritage-housing-analysis/requirements.txt (line 20)) (8.12.2)\nRequirement already satisfied: traitlets>=4.3.1 in /home/codeany/.pyenv/versions/3.8.12/lib/python3.8/site-packages (from ipywidgets==8.0.2->-r /workspaces/heritage-housing-analysis/requirements.txt (line 20)) (5.9.0)\nRequirement already satisfied: widgetsnbextension~=4.0 in /home/codeany/.pyenv/versions/3.8.12/lib/python3.8/site-packages (from ipywidgets==8.0.2->-r /workspaces/heritage-housing-analysis/requirements.txt (line 20)) (4.0.7)\nRequirement already satisfied: jupyterlab-widgets~=3.0 in /home/codeany/.pyenv/versions/3.8.12/lib/python3.8/site-packages (from ipywidgets==8.0.2->-r /workspaces/heritage-housing-analysis/requirements.txt (line 20)) (3.0.7)\nRequirement already satisfied: networkx>=2.4 in /home/codeany/.local/lib/python3.8/site-packages (from visions[type_image_path]==0.7.4->pandas-profiling==3.1.0->-r /workspaces/heritage-housing-analysis/requirements.txt (line 5)) (3.1)\nRequirement already satisfied: imagehash in /home/codeany/.local/lib/python3.8/site-packages (from visions[type_image_path]==0.7.4->pandas-profiling==3.1.0->-r /workspaces/heritage-housing-analysis/requirements.txt (line 5)) (4.3.1)\nRequirement already satisfied: entrypoints in /home/codeany/.local/lib/python3.8/site-packages (from altair<5->-r /workspaces/heritage-housing-analysis/requirements.txt (line 10)) (0.4)\nRequirement already satisfied: jsonschema>=3.0 in /home/codeany/.pyenv/versions/3.8.12/lib/python3.8/site-packages (from altair<5->-r /workspaces/heritage-housing-analysis/requirements.txt (line 10)) (4.17.3)\nRequirement already satisfied: toolz in /home/codeany/.local/lib/python3.8/site-packages (from altair<5->-r /workspaces/heritage-housing-analysis/requirements.txt (line 10)) (0.12.0)\nRequirement already satisfied: comm>=0.1.1 in /home/codeany/.pyenv/versions/3.8.12/lib/python3.8/site-packages (from ipykernel>=4.5.1->ipywidgets==8.0.2->-r /workspaces/heritage-housing-analysis/requirements.txt (line 20)) (0.1.3)\nRequirement already satisfied: debugpy>=1.6.5 in /home/codeany/.pyenv/versions/3.8.12/lib/python3.8/site-packages (from ipykernel>=4.5.1->ipywidgets==8.0.2->-r /workspaces/heritage-housing-analysis/requirements.txt (line 20)) (1.6.7)\nRequirement already satisfied: jupyter-client>=6.1.12 in /home/codeany/.pyenv/versions/3.8.12/lib/python3.8/site-packages (from ipykernel>=4.5.1->ipywidgets==8.0.2->-r /workspaces/heritage-housing-analysis/requirements.txt (line 20)) (8.3.0)\nRequirement already satisfied: jupyter-core!=5.0.*,>=4.12 in /home/codeany/.pyenv/versions/3.8.12/lib/python3.8/site-packages (from ipykernel>=4.5.1->ipywidgets==8.0.2->-r /workspaces/heritage-housing-analysis/requirements.txt (line 20)) (5.3.1)\nRequirement already satisfied: matplotlib-inline>=0.1 in /home/codeany/.pyenv/versions/3.8.12/lib/python3.8/site-packages (from ipykernel>=4.5.1->ipywidgets==8.0.2->-r /workspaces/heritage-housing-analysis/requirements.txt (line 20)) (0.1.6)\nRequirement already satisfied: nest-asyncio in /home/codeany/.pyenv/versions/3.8.12/lib/python3.8/site-packages (from ipykernel>=4.5.1->ipywidgets==8.0.2->-r /workspaces/heritage-housing-analysis/requirements.txt (line 20)) (1.5.6)\nRequirement already satisfied: psutil in /home/codeany/.pyenv/versions/3.8.12/lib/python3.8/site-packages (from ipykernel>=4.5.1->ipywidgets==8.0.2->-r /workspaces/heritage-housing-analysis/requirements.txt (line 20)) (5.9.5)\nRequirement already satisfied: pyzmq>=20 in /home/codeany/.pyenv/versions/3.8.12/lib/python3.8/site-packages (from ipykernel>=4.5.1->ipywidgets==8.0.2->-r /workspaces/heritage-housing-analysis/requirements.txt (line 20)) (25.1.0)\nRequirement already satisfied: backcall in /home/codeany/.pyenv/versions/3.8.12/lib/python3.8/site-packages (from ipython>=6.1.0->ipywidgets==8.0.2->-r /workspaces/heritage-housing-analysis/requirements.txt (line 20)) (0.2.0)\nRequirement already satisfied: decorator in /home/codeany/.pyenv/versions/3.8.12/lib/python3.8/site-packages (from ipython>=6.1.0->ipywidgets==8.0.2->-r /workspaces/heritage-housing-analysis/requirements.txt (line 20)) (5.1.1)\nRequirement already satisfied: jedi>=0.16 in /home/codeany/.pyenv/versions/3.8.12/lib/python3.8/site-packages (from ipython>=6.1.0->ipywidgets==8.0.2->-r /workspaces/heritage-housing-analysis/requirements.txt (line 20)) (0.18.2)\nRequirement already satisfied: pickleshare in /home/codeany/.pyenv/versions/3.8.12/lib/python3.8/site-packages (from ipython>=6.1.0->ipywidgets==8.0.2->-r /workspaces/heritage-housing-analysis/requirements.txt (line 20)) (0.7.5)\nRequirement already satisfied: prompt-toolkit!=3.0.37,<3.1.0,>=3.0.30 in /home/codeany/.pyenv/versions/3.8.12/lib/python3.8/site-packages (from ipython>=6.1.0->ipywidgets==8.0.2->-r /workspaces/heritage-housing-analysis/requirements.txt (line 20)) (3.0.38)\nRequirement already satisfied: pygments>=2.4.0 in /home/codeany/.pyenv/versions/3.8.12/lib/python3.8/site-packages (from ipython>=6.1.0->ipywidgets==8.0.2->-r /workspaces/heritage-housing-analysis/requirements.txt (line 20)) (2.15.1)\nRequirement already satisfied: stack-data in /home/codeany/.pyenv/versions/3.8.12/lib/python3.8/site-packages (from ipython>=6.1.0->ipywidgets==8.0.2->-r /workspaces/heritage-housing-analysis/requirements.txt (line 20)) (0.6.2)\nRequirement already satisfied: typing-extensions in /home/codeany/.pyenv/versions/3.8.12/lib/python3.8/site-packages (from ipython>=6.1.0->ipywidgets==8.0.2->-r /workspaces/heritage-housing-analysis/requirements.txt (line 20)) (4.6.3)\nRequirement already satisfied: pexpect>4.3 in /home/codeany/.pyenv/versions/3.8.12/lib/python3.8/site-packages (from ipython>=6.1.0->ipywidgets==8.0.2->-r /workspaces/heritage-housing-analysis/requirements.txt (line 20)) (4.8.0)\nRequirement already satisfied: importlib-resources>=1.4.0 in /home/codeany/.pyenv/versions/3.8.12/lib/python3.8/site-packages (from jsonschema>=3.0->altair<5->-r /workspaces/heritage-housing-analysis/requirements.txt (line 10)) (5.12.0)\nRequirement already satisfied: pkgutil-resolve-name>=1.3.10 in /home/codeany/.pyenv/versions/3.8.12/lib/python3.8/site-packages (from jsonschema>=3.0->altair<5->-r /workspaces/heritage-housing-analysis/requirements.txt (line 10)) (1.3.10)\nRequirement already satisfied: pyrsistent!=0.17.0,!=0.17.1,!=0.17.2,>=0.14.0 in /home/codeany/.pyenv/versions/3.8.12/lib/python3.8/site-packages (from jsonschema>=3.0->altair<5->-r /workspaces/heritage-housing-analysis/requirements.txt (line 10)) (0.19.3)\nRequirement already satisfied: charset-normalizer<4,>=2 in /home/codeany/.pyenv/versions/3.8.12/lib/python3.8/site-packages (from requests>=2.24.0->pandas-profiling==3.1.0->-r /workspaces/heritage-housing-analysis/requirements.txt (line 5)) (3.1.0)\nRequirement already satisfied: idna<4,>=2.5 in /home/codeany/.pyenv/versions/3.8.12/lib/python3.8/site-packages (from requests>=2.24.0->pandas-profiling==3.1.0->-r /workspaces/heritage-housing-analysis/requirements.txt (line 5)) (3.4)\nRequirement already satisfied: urllib3<3,>=1.21.1 in /home/codeany/.pyenv/versions/3.8.12/lib/python3.8/site-packages (from requests>=2.24.0->pandas-profiling==3.1.0->-r /workspaces/heritage-housing-analysis/requirements.txt (line 5)) (2.0.3)\nRequirement already satisfied: patsy>=0.5.2 in /home/codeany/.local/lib/python3.8/site-packages (from statsmodels>=0.11.1->feature-engine==1.0.2->-r /workspaces/heritage-housing-analysis/requirements.txt (line 12)) (0.5.3)\nRequirement already satisfied: gitdb<5,>=4.0.1 in /home/codeany/.pyenv/versions/3.8.12/lib/python3.8/site-packages (from gitpython->streamlit==0.85.0->-r /workspaces/heritage-housing-analysis/requirements.txt (line 9)) (4.0.10)\nRequirement already satisfied: backports.zoneinfo in /home/codeany/.local/lib/python3.8/site-packages (from tzlocal->streamlit==0.85.0->-r /workspaces/heritage-housing-analysis/requirements.txt (line 9)) (0.2.1)\nRequirement already satisfied: smmap<6,>=3.0.1 in /home/codeany/.pyenv/versions/3.8.12/lib/python3.8/site-packages (from gitdb<5,>=4.0.1->gitpython->streamlit==0.85.0->-r /workspaces/heritage-housing-analysis/requirements.txt (line 9)) (5.0.0)\nRequirement already satisfied: zipp>=3.1.0 in /home/codeany/.pyenv/versions/3.8.12/lib/python3.8/site-packages (from importlib-resources>=1.4.0->jsonschema>=3.0->altair<5->-r /workspaces/heritage-housing-analysis/requirements.txt (line 10)) (3.15.0)\nRequirement already satisfied: parso<0.9.0,>=0.8.0 in /home/codeany/.pyenv/versions/3.8.12/lib/python3.8/site-packages (from jedi>=0.16->ipython>=6.1.0->ipywidgets==8.0.2->-r /workspaces/heritage-housing-analysis/requirements.txt (line 20)) (0.8.3)\nRequirement already satisfied: importlib-metadata>=4.8.3 in /home/codeany/.pyenv/versions/3.8.12/lib/python3.8/site-packages (from jupyter-client>=6.1.12->ipykernel>=4.5.1->ipywidgets==8.0.2->-r /workspaces/heritage-housing-analysis/requirements.txt (line 20)) (6.7.0)\nRequirement already satisfied: platformdirs>=2.5 in /home/codeany/.pyenv/versions/3.8.12/lib/python3.8/site-packages (from jupyter-core!=5.0.*,>=4.12->ipykernel>=4.5.1->ipywidgets==8.0.2->-r /workspaces/heritage-housing-analysis/requirements.txt (line 20)) (3.8.0)\nRequirement already satisfied: ptyprocess>=0.5 in /home/codeany/.pyenv/versions/3.8.12/lib/python3.8/site-packages (from pexpect>4.3->ipython>=6.1.0->ipywidgets==8.0.2->-r /workspaces/heritage-housing-analysis/requirements.txt (line 20)) (0.7.0)\nRequirement already satisfied: wcwidth in /home/codeany/.pyenv/versions/3.8.12/lib/python3.8/site-packages (from prompt-toolkit!=3.0.37,<3.1.0,>=3.0.30->ipython>=6.1.0->ipywidgets==8.0.2->-r /workspaces/heritage-housing-analysis/requirements.txt (line 20)) (0.2.6)\nRequirement already satisfied: PyWavelets in /home/codeany/.local/lib/python3.8/site-packages (from imagehash->visions[type_image_path]==0.7.4->pandas-profiling==3.1.0->-r /workspaces/heritage-housing-analysis/requirements.txt (line 5)) (1.4.1)\nRequirement already satisfied: executing>=1.2.0 in /home/codeany/.pyenv/versions/3.8.12/lib/python3.8/site-packages (from stack-data->ipython>=6.1.0->ipywidgets==8.0.2->-r /workspaces/heritage-housing-analysis/requirements.txt (line 20)) (1.2.0)\nRequirement already satisfied: asttokens>=2.1.0 in /home/codeany/.pyenv/versions/3.8.12/lib/python3.8/site-packages (from stack-data->ipython>=6.1.0->ipywidgets==8.0.2->-r /workspaces/heritage-housing-analysis/requirements.txt (line 20)) (2.2.1)\nRequirement already satisfied: pure-eval in /home/codeany/.pyenv/versions/3.8.12/lib/python3.8/site-packages (from stack-data->ipython>=6.1.0->ipywidgets==8.0.2->-r /workspaces/heritage-housing-analysis/requirements.txt (line 20)) (0.2.2)\nNote: you may need to restart the kernel to use updated packages.\n"
        }
      ],
      "source": [
        "%pip install -r /workspaces/heritage-housing-analysis/requirements.txt"
      ]
    },
    {
      "cell_type": "markdown",
      "metadata": {
        "id": "aOGIGS-uz3i2"
      },
      "source": [
        "We need to change the working directory from its current folder to its parent folder\n",
        "* We access the current directory with os.getcwd()"
      ]
    },
    {
      "cell_type": "code",
      "execution_count": 2,
      "metadata": {
        "id": "wZfF_j-Bz3i4",
        "outputId": "66943449-1436-4c3d-85c7-b85f9f78349b"
      },
      "outputs": [
        {
          "output_type": "execute_result",
          "data": {
            "text/plain": "'/workspaces/heritage-housing-analysis/jupyter_notebooks'"
          },
          "metadata": {},
          "execution_count": 2
        }
      ],
      "source": [
        "import os\n",
        "current_dir = os.getcwd()\n",
        "current_dir"
      ]
    },
    {
      "cell_type": "markdown",
      "metadata": {
        "id": "9MWW8E7lz3i7"
      },
      "source": [
        "We want to make the parent of the current directory the new current directory\n",
        "* os.path.dirname() gets the parent directory\n",
        "* os.chir() defines the new current directory"
      ]
    },
    {
      "cell_type": "code",
      "execution_count": 3,
      "metadata": {
        "id": "TwHsQRWjz3i9",
        "outputId": "86849db3-cd2f-4cc5-ebb8-2d0caafa1a2c",
        "tags": []
      },
      "outputs": [
        {
          "output_type": "stream",
          "name": "stdout",
          "text": "You set a new current directory\n"
        }
      ],
      "source": [
        "os.chdir(os.path.dirname(current_dir))\n",
        "print(\"You set a new current directory\")"
      ]
    },
    {
      "cell_type": "markdown",
      "metadata": {
        "id": "M_xPk_Ijz3i-"
      },
      "source": [
        "Confirm the new current directory"
      ]
    },
    {
      "cell_type": "code",
      "execution_count": 4,
      "metadata": {
        "id": "vz3S-_kjz3jA",
        "outputId": "00b79ae4-75d0-4a96-d193-ac9ef9847ea2"
      },
      "outputs": [
        {
          "output_type": "execute_result",
          "data": {
            "text/plain": "'/workspaces/heritage-housing-analysis'"
          },
          "metadata": {},
          "execution_count": 4
        }
      ],
      "source": [
        "current_dir = os.getcwd()\n",
        "current_dir"
      ]
    },
    {
      "cell_type": "markdown",
      "metadata": {
        "id": "ZY3l0-AxO93d"
      },
      "source": [
        "---"
      ]
    },
    {
      "cell_type": "markdown",
      "metadata": {
        "id": "uFQo3ycuO-v6"
      },
      "source": [
        "# Fetch data from Kaggle"
      ]
    },
    {
      "cell_type": "markdown",
      "metadata": {},
      "source": [
        "Install Kaggle package to help fetch data"
      ]
    },
    {
      "source": [
        "%pip install kaggle==1.5.12"
      ],
      "cell_type": "code",
      "metadata": {
        "tags": []
      },
      "execution_count": 5,
      "outputs": [
        {
          "output_type": "stream",
          "name": "stdout",
          "text": "Requirement already satisfied: kaggle==1.5.12 in /home/codeany/.pyenv/versions/3.8.12/lib/python3.8/site-packages (1.5.12)\nRequirement already satisfied: six>=1.10 in /home/codeany/.pyenv/versions/3.8.12/lib/python3.8/site-packages (from kaggle==1.5.12) (1.16.0)\nRequirement already satisfied: certifi in /home/codeany/.pyenv/versions/3.8.12/lib/python3.8/site-packages (from kaggle==1.5.12) (2023.5.7)\nRequirement already satisfied: python-dateutil in /home/codeany/.pyenv/versions/3.8.12/lib/python3.8/site-packages (from kaggle==1.5.12) (2.8.2)\nRequirement already satisfied: requests in /home/codeany/.pyenv/versions/3.8.12/lib/python3.8/site-packages (from kaggle==1.5.12) (2.31.0)\nRequirement already satisfied: tqdm in /home/codeany/.local/lib/python3.8/site-packages (from kaggle==1.5.12) (4.65.0)\nRequirement already satisfied: python-slugify in /home/codeany/.pyenv/versions/3.8.12/lib/python3.8/site-packages (from kaggle==1.5.12) (8.0.1)\nRequirement already satisfied: urllib3 in /home/codeany/.pyenv/versions/3.8.12/lib/python3.8/site-packages (from kaggle==1.5.12) (2.0.3)\nRequirement already satisfied: text-unidecode>=1.3 in /home/codeany/.pyenv/versions/3.8.12/lib/python3.8/site-packages (from python-slugify->kaggle==1.5.12) (1.3)\nRequirement already satisfied: charset-normalizer<4,>=2 in /home/codeany/.pyenv/versions/3.8.12/lib/python3.8/site-packages (from requests->kaggle==1.5.12) (3.1.0)\nRequirement already satisfied: idna<4,>=2.5 in /home/codeany/.pyenv/versions/3.8.12/lib/python3.8/site-packages (from requests->kaggle==1.5.12) (3.4)\nNote: you may need to restart the kernel to use updated packages.\n"
        }
      ]
    },
    {
      "source": [
        "Please ensure that your kaggle.json file is added to the directory so that the cell below can add the token to the session. (Make sure kaggle.json is in the .gitignore file as well!)"
      ],
      "cell_type": "markdown",
      "metadata": {}
    },
    {
      "cell_type": "code",
      "execution_count": 6,
      "metadata": {
        "tags": []
      },
      "outputs": [],
      "source": [
        "import os\n",
        "os.environ['KAGGLE_CONFIG_DIR'] = os.getcwd()\n",
        "! chmod 600 kaggle.json"
      ]
    },
    {
      "source": [
        "Download the[Kaggle dataset] and put the extracted files into the \"inputs/datasets/raw\" folder. Alternatively uncomment and use the 2 cells below to download and unzip the files."
      ],
      "cell_type": "markdown",
      "metadata": {}
    },
    {
      "cell_type": "code",
      "execution_count": 15,
      "metadata": {
        "tags": []
      },
      "outputs": [],
      "source": [
        "# KaggleDatasetPath = \"codeinstitute/housing-prices-data\"\n",
        "# DestinationFolder = \"inputs/datasets/raw\"   \n",
        "# ! kaggle datasets download -d {KaggleDatasetPath} -p {DestinationFolder}"
      ]
    },
    {
      "cell_type": "code",
      "execution_count": 16,
      "metadata": {},
      "outputs": [],
      "source": [
        "# import zipfile\n",
        "# with zipfile.ZipFile(DestinationFolder + '/malaria-cell-classification.zip', 'r') as zip_ref:\n",
        "#     zip_ref.extractall(DestinationFolder)\n",
        "\n",
        "# os.remove(DestinationFolder + '/malaria-cell-classification.zip')"
      ]
    },
    {
      "cell_type": "markdown",
      "metadata": {},
      "source": [
        "---"
      ]
    },
    {
      "source": [
        "# Load and Inspect Kaggle data"
      ],
      "cell_type": "markdown",
      "metadata": {}
    },
    {
      "source": [
        "There are 2 CSV files contained within the dataset. Let's check both of them to see what we are dealing with.\n",
        "df will = house_prices_records.csv\n",
        "dfa will = inherited_houses.csv"
      ],
      "cell_type": "markdown",
      "metadata": {}
    },
    {
      "cell_type": "code",
      "execution_count": 7,
      "metadata": {},
      "outputs": [
        {
          "output_type": "execute_result",
          "data": {
            "text/plain": "    1stFlrSF  2ndFlrSF  BedroomAbvGr BsmtExposure  BsmtFinSF1 BsmtFinType1  \\\n0        856     854.0           3.0           No         706          GLQ   \n1       1262       0.0           3.0           Gd         978          ALQ   \n2        920     866.0           3.0           Mn         486          GLQ   \n3        961       NaN           NaN           No         216          ALQ   \n4       1145       NaN           4.0           Av         655          GLQ   \n5        796     566.0           1.0           No         732          GLQ   \n6       1694       0.0           3.0           Av        1369          GLQ   \n7       1107     983.0           3.0           Mn         859          ALQ   \n8       1022     752.0           2.0           No           0          Unf   \n9       1077       0.0           2.0           No         851          GLQ   \n10      1040       0.0           3.0           No         906          Rec   \n11      1182    1142.0           4.0           No         998          NaN   \n12       912       0.0           2.0           No         737          ALQ   \n13      1494       0.0           3.0           Av           0          Unf   \n14      1253       0.0           NaN           No         733          BLQ   \n15       854       0.0           2.0           No           0          Unf   \n16      1004       0.0           2.0           No         578          ALQ   \n17      1296       0.0           2.0         None           0         None   \n18      1114       NaN           NaN           No         646          GLQ   \n19      1339       0.0           3.0           No         504          LwQ   \n\n    BsmtUnfSF  EnclosedPorch  GarageArea GarageFinish  ...  LotFrontage  \\\n0         150            0.0         548          RFn  ...         65.0   \n1         284            NaN         460          RFn  ...         80.0   \n2         434            0.0         608          RFn  ...         68.0   \n3         540            NaN         642          Unf  ...         60.0   \n4         490            0.0         836          RFn  ...         84.0   \n5          64            NaN         480          Unf  ...         85.0   \n6         317            NaN         636          RFn  ...         75.0   \n7         216            NaN         484          NaN  ...          NaN   \n8         952            NaN         468          Unf  ...         51.0   \n9         140            NaN         205          RFn  ...         50.0   \n10        134            NaN         384          Unf  ...         70.0   \n11        177            NaN         736          Fin  ...         85.0   \n12        175            NaN         352          NaN  ...          NaN   \n13       1494            NaN         840          RFn  ...         91.0   \n14        520            NaN         352          RFn  ...          NaN   \n15        832            NaN         576          Unf  ...         51.0   \n16        426            NaN         480          Fin  ...          NaN   \n17          0            NaN         516          Unf  ...         72.0   \n18        468            NaN         576          Unf  ...         66.0   \n19        525            NaN         294          Unf  ...         70.0   \n\n    MasVnrArea OpenPorchSF  OverallCond  OverallQual  TotalBsmtSF  WoodDeckSF  \\\n0        196.0          61            5            7          856         0.0   \n1          0.0           0            8            6         1262         NaN   \n2        162.0          42            5            7          920         NaN   \n3          0.0          35            5            7          756         NaN   \n4        350.0          84            5            8         1145         NaN   \n5          0.0          30            5            5          796         NaN   \n6        186.0          57            5            8         1686         NaN   \n7        240.0         204            6            7         1107         NaN   \n8          0.0           0            5            7          952         NaN   \n9          0.0           4            6            5          991         NaN   \n10         0.0           0            5            5         1040         NaN   \n11       286.0          21            5            9         1175         NaN   \n12         0.0           0            6            5          912         NaN   \n13       306.0          33            5            7         1494       160.0   \n14       212.0         213            5            6         1253         NaN   \n15         0.0         112            8            7          832         NaN   \n16       180.0           0            7            6         1004         NaN   \n17         0.0           0            5            4            0         NaN   \n18         0.0         102            5            5         1114         NaN   \n19         0.0           0            6            5         1029         NaN   \n\n    YearBuilt  YearRemodAdd  SalePrice  \n0        2003          2003     208500  \n1        1976          1976     181500  \n2        2001          2002     223500  \n3        1915          1970     140000  \n4        2000          2000     250000  \n5        1993          1995     143000  \n6        2004          2005     307000  \n7        1973          1973     200000  \n8        1931          1950     129900  \n9        1939          1950     118000  \n10       1965          1965     129500  \n11       2005          2006     345000  \n12       1962          1962     144000  \n13       2006          2007     279500  \n14       1960          1960     157000  \n15       1929          2001     132000  \n16       1970          1970     149000  \n17       1967          1967      90000  \n18       2004          2004     159000  \n19       1958          1965     139000  \n\n[20 rows x 24 columns]",
            "text/html": "<div>\n<style scoped>\n    .dataframe tbody tr th:only-of-type {\n        vertical-align: middle;\n    }\n\n    .dataframe tbody tr th {\n        vertical-align: top;\n    }\n\n    .dataframe thead th {\n        text-align: right;\n    }\n</style>\n<table border=\"1\" class=\"dataframe\">\n  <thead>\n    <tr style=\"text-align: right;\">\n      <th></th>\n      <th>1stFlrSF</th>\n      <th>2ndFlrSF</th>\n      <th>BedroomAbvGr</th>\n      <th>BsmtExposure</th>\n      <th>BsmtFinSF1</th>\n      <th>BsmtFinType1</th>\n      <th>BsmtUnfSF</th>\n      <th>EnclosedPorch</th>\n      <th>GarageArea</th>\n      <th>GarageFinish</th>\n      <th>...</th>\n      <th>LotFrontage</th>\n      <th>MasVnrArea</th>\n      <th>OpenPorchSF</th>\n      <th>OverallCond</th>\n      <th>OverallQual</th>\n      <th>TotalBsmtSF</th>\n      <th>WoodDeckSF</th>\n      <th>YearBuilt</th>\n      <th>YearRemodAdd</th>\n      <th>SalePrice</th>\n    </tr>\n  </thead>\n  <tbody>\n    <tr>\n      <th>0</th>\n      <td>856</td>\n      <td>854.0</td>\n      <td>3.0</td>\n      <td>No</td>\n      <td>706</td>\n      <td>GLQ</td>\n      <td>150</td>\n      <td>0.0</td>\n      <td>548</td>\n      <td>RFn</td>\n      <td>...</td>\n      <td>65.0</td>\n      <td>196.0</td>\n      <td>61</td>\n      <td>5</td>\n      <td>7</td>\n      <td>856</td>\n      <td>0.0</td>\n      <td>2003</td>\n      <td>2003</td>\n      <td>208500</td>\n    </tr>\n    <tr>\n      <th>1</th>\n      <td>1262</td>\n      <td>0.0</td>\n      <td>3.0</td>\n      <td>Gd</td>\n      <td>978</td>\n      <td>ALQ</td>\n      <td>284</td>\n      <td>NaN</td>\n      <td>460</td>\n      <td>RFn</td>\n      <td>...</td>\n      <td>80.0</td>\n      <td>0.0</td>\n      <td>0</td>\n      <td>8</td>\n      <td>6</td>\n      <td>1262</td>\n      <td>NaN</td>\n      <td>1976</td>\n      <td>1976</td>\n      <td>181500</td>\n    </tr>\n    <tr>\n      <th>2</th>\n      <td>920</td>\n      <td>866.0</td>\n      <td>3.0</td>\n      <td>Mn</td>\n      <td>486</td>\n      <td>GLQ</td>\n      <td>434</td>\n      <td>0.0</td>\n      <td>608</td>\n      <td>RFn</td>\n      <td>...</td>\n      <td>68.0</td>\n      <td>162.0</td>\n      <td>42</td>\n      <td>5</td>\n      <td>7</td>\n      <td>920</td>\n      <td>NaN</td>\n      <td>2001</td>\n      <td>2002</td>\n      <td>223500</td>\n    </tr>\n    <tr>\n      <th>3</th>\n      <td>961</td>\n      <td>NaN</td>\n      <td>NaN</td>\n      <td>No</td>\n      <td>216</td>\n      <td>ALQ</td>\n      <td>540</td>\n      <td>NaN</td>\n      <td>642</td>\n      <td>Unf</td>\n      <td>...</td>\n      <td>60.0</td>\n      <td>0.0</td>\n      <td>35</td>\n      <td>5</td>\n      <td>7</td>\n      <td>756</td>\n      <td>NaN</td>\n      <td>1915</td>\n      <td>1970</td>\n      <td>140000</td>\n    </tr>\n    <tr>\n      <th>4</th>\n      <td>1145</td>\n      <td>NaN</td>\n      <td>4.0</td>\n      <td>Av</td>\n      <td>655</td>\n      <td>GLQ</td>\n      <td>490</td>\n      <td>0.0</td>\n      <td>836</td>\n      <td>RFn</td>\n      <td>...</td>\n      <td>84.0</td>\n      <td>350.0</td>\n      <td>84</td>\n      <td>5</td>\n      <td>8</td>\n      <td>1145</td>\n      <td>NaN</td>\n      <td>2000</td>\n      <td>2000</td>\n      <td>250000</td>\n    </tr>\n    <tr>\n      <th>5</th>\n      <td>796</td>\n      <td>566.0</td>\n      <td>1.0</td>\n      <td>No</td>\n      <td>732</td>\n      <td>GLQ</td>\n      <td>64</td>\n      <td>NaN</td>\n      <td>480</td>\n      <td>Unf</td>\n      <td>...</td>\n      <td>85.0</td>\n      <td>0.0</td>\n      <td>30</td>\n      <td>5</td>\n      <td>5</td>\n      <td>796</td>\n      <td>NaN</td>\n      <td>1993</td>\n      <td>1995</td>\n      <td>143000</td>\n    </tr>\n    <tr>\n      <th>6</th>\n      <td>1694</td>\n      <td>0.0</td>\n      <td>3.0</td>\n      <td>Av</td>\n      <td>1369</td>\n      <td>GLQ</td>\n      <td>317</td>\n      <td>NaN</td>\n      <td>636</td>\n      <td>RFn</td>\n      <td>...</td>\n      <td>75.0</td>\n      <td>186.0</td>\n      <td>57</td>\n      <td>5</td>\n      <td>8</td>\n      <td>1686</td>\n      <td>NaN</td>\n      <td>2004</td>\n      <td>2005</td>\n      <td>307000</td>\n    </tr>\n    <tr>\n      <th>7</th>\n      <td>1107</td>\n      <td>983.0</td>\n      <td>3.0</td>\n      <td>Mn</td>\n      <td>859</td>\n      <td>ALQ</td>\n      <td>216</td>\n      <td>NaN</td>\n      <td>484</td>\n      <td>NaN</td>\n      <td>...</td>\n      <td>NaN</td>\n      <td>240.0</td>\n      <td>204</td>\n      <td>6</td>\n      <td>7</td>\n      <td>1107</td>\n      <td>NaN</td>\n      <td>1973</td>\n      <td>1973</td>\n      <td>200000</td>\n    </tr>\n    <tr>\n      <th>8</th>\n      <td>1022</td>\n      <td>752.0</td>\n      <td>2.0</td>\n      <td>No</td>\n      <td>0</td>\n      <td>Unf</td>\n      <td>952</td>\n      <td>NaN</td>\n      <td>468</td>\n      <td>Unf</td>\n      <td>...</td>\n      <td>51.0</td>\n      <td>0.0</td>\n      <td>0</td>\n      <td>5</td>\n      <td>7</td>\n      <td>952</td>\n      <td>NaN</td>\n      <td>1931</td>\n      <td>1950</td>\n      <td>129900</td>\n    </tr>\n    <tr>\n      <th>9</th>\n      <td>1077</td>\n      <td>0.0</td>\n      <td>2.0</td>\n      <td>No</td>\n      <td>851</td>\n      <td>GLQ</td>\n      <td>140</td>\n      <td>NaN</td>\n      <td>205</td>\n      <td>RFn</td>\n      <td>...</td>\n      <td>50.0</td>\n      <td>0.0</td>\n      <td>4</td>\n      <td>6</td>\n      <td>5</td>\n      <td>991</td>\n      <td>NaN</td>\n      <td>1939</td>\n      <td>1950</td>\n      <td>118000</td>\n    </tr>\n    <tr>\n      <th>10</th>\n      <td>1040</td>\n      <td>0.0</td>\n      <td>3.0</td>\n      <td>No</td>\n      <td>906</td>\n      <td>Rec</td>\n      <td>134</td>\n      <td>NaN</td>\n      <td>384</td>\n      <td>Unf</td>\n      <td>...</td>\n      <td>70.0</td>\n      <td>0.0</td>\n      <td>0</td>\n      <td>5</td>\n      <td>5</td>\n      <td>1040</td>\n      <td>NaN</td>\n      <td>1965</td>\n      <td>1965</td>\n      <td>129500</td>\n    </tr>\n    <tr>\n      <th>11</th>\n      <td>1182</td>\n      <td>1142.0</td>\n      <td>4.0</td>\n      <td>No</td>\n      <td>998</td>\n      <td>NaN</td>\n      <td>177</td>\n      <td>NaN</td>\n      <td>736</td>\n      <td>Fin</td>\n      <td>...</td>\n      <td>85.0</td>\n      <td>286.0</td>\n      <td>21</td>\n      <td>5</td>\n      <td>9</td>\n      <td>1175</td>\n      <td>NaN</td>\n      <td>2005</td>\n      <td>2006</td>\n      <td>345000</td>\n    </tr>\n    <tr>\n      <th>12</th>\n      <td>912</td>\n      <td>0.0</td>\n      <td>2.0</td>\n      <td>No</td>\n      <td>737</td>\n      <td>ALQ</td>\n      <td>175</td>\n      <td>NaN</td>\n      <td>352</td>\n      <td>NaN</td>\n      <td>...</td>\n      <td>NaN</td>\n      <td>0.0</td>\n      <td>0</td>\n      <td>6</td>\n      <td>5</td>\n      <td>912</td>\n      <td>NaN</td>\n      <td>1962</td>\n      <td>1962</td>\n      <td>144000</td>\n    </tr>\n    <tr>\n      <th>13</th>\n      <td>1494</td>\n      <td>0.0</td>\n      <td>3.0</td>\n      <td>Av</td>\n      <td>0</td>\n      <td>Unf</td>\n      <td>1494</td>\n      <td>NaN</td>\n      <td>840</td>\n      <td>RFn</td>\n      <td>...</td>\n      <td>91.0</td>\n      <td>306.0</td>\n      <td>33</td>\n      <td>5</td>\n      <td>7</td>\n      <td>1494</td>\n      <td>160.0</td>\n      <td>2006</td>\n      <td>2007</td>\n      <td>279500</td>\n    </tr>\n    <tr>\n      <th>14</th>\n      <td>1253</td>\n      <td>0.0</td>\n      <td>NaN</td>\n      <td>No</td>\n      <td>733</td>\n      <td>BLQ</td>\n      <td>520</td>\n      <td>NaN</td>\n      <td>352</td>\n      <td>RFn</td>\n      <td>...</td>\n      <td>NaN</td>\n      <td>212.0</td>\n      <td>213</td>\n      <td>5</td>\n      <td>6</td>\n      <td>1253</td>\n      <td>NaN</td>\n      <td>1960</td>\n      <td>1960</td>\n      <td>157000</td>\n    </tr>\n    <tr>\n      <th>15</th>\n      <td>854</td>\n      <td>0.0</td>\n      <td>2.0</td>\n      <td>No</td>\n      <td>0</td>\n      <td>Unf</td>\n      <td>832</td>\n      <td>NaN</td>\n      <td>576</td>\n      <td>Unf</td>\n      <td>...</td>\n      <td>51.0</td>\n      <td>0.0</td>\n      <td>112</td>\n      <td>8</td>\n      <td>7</td>\n      <td>832</td>\n      <td>NaN</td>\n      <td>1929</td>\n      <td>2001</td>\n      <td>132000</td>\n    </tr>\n    <tr>\n      <th>16</th>\n      <td>1004</td>\n      <td>0.0</td>\n      <td>2.0</td>\n      <td>No</td>\n      <td>578</td>\n      <td>ALQ</td>\n      <td>426</td>\n      <td>NaN</td>\n      <td>480</td>\n      <td>Fin</td>\n      <td>...</td>\n      <td>NaN</td>\n      <td>180.0</td>\n      <td>0</td>\n      <td>7</td>\n      <td>6</td>\n      <td>1004</td>\n      <td>NaN</td>\n      <td>1970</td>\n      <td>1970</td>\n      <td>149000</td>\n    </tr>\n    <tr>\n      <th>17</th>\n      <td>1296</td>\n      <td>0.0</td>\n      <td>2.0</td>\n      <td>None</td>\n      <td>0</td>\n      <td>None</td>\n      <td>0</td>\n      <td>NaN</td>\n      <td>516</td>\n      <td>Unf</td>\n      <td>...</td>\n      <td>72.0</td>\n      <td>0.0</td>\n      <td>0</td>\n      <td>5</td>\n      <td>4</td>\n      <td>0</td>\n      <td>NaN</td>\n      <td>1967</td>\n      <td>1967</td>\n      <td>90000</td>\n    </tr>\n    <tr>\n      <th>18</th>\n      <td>1114</td>\n      <td>NaN</td>\n      <td>NaN</td>\n      <td>No</td>\n      <td>646</td>\n      <td>GLQ</td>\n      <td>468</td>\n      <td>NaN</td>\n      <td>576</td>\n      <td>Unf</td>\n      <td>...</td>\n      <td>66.0</td>\n      <td>0.0</td>\n      <td>102</td>\n      <td>5</td>\n      <td>5</td>\n      <td>1114</td>\n      <td>NaN</td>\n      <td>2004</td>\n      <td>2004</td>\n      <td>159000</td>\n    </tr>\n    <tr>\n      <th>19</th>\n      <td>1339</td>\n      <td>0.0</td>\n      <td>3.0</td>\n      <td>No</td>\n      <td>504</td>\n      <td>LwQ</td>\n      <td>525</td>\n      <td>NaN</td>\n      <td>294</td>\n      <td>Unf</td>\n      <td>...</td>\n      <td>70.0</td>\n      <td>0.0</td>\n      <td>0</td>\n      <td>6</td>\n      <td>5</td>\n      <td>1029</td>\n      <td>NaN</td>\n      <td>1958</td>\n      <td>1965</td>\n      <td>139000</td>\n    </tr>\n  </tbody>\n</table>\n<p>20 rows × 24 columns</p>\n</div>"
          },
          "metadata": {},
          "execution_count": 7
        }
      ],
      "source": [
        "import pandas as pd\n",
        "df = pd.read_csv(f\"inputs/datasets/raw/house_prices_records.csv\")\n",
        "df.head(20)"
      ]
    },
    {
      "cell_type": "code",
      "execution_count": 8,
      "metadata": {
        "tags": []
      },
      "outputs": [
        {
          "output_type": "stream",
          "name": "stdout",
          "text": "<class 'pandas.core.frame.DataFrame'>\nRangeIndex: 1460 entries, 0 to 1459\nData columns (total 24 columns):\n #   Column         Non-Null Count  Dtype  \n---  ------         --------------  -----  \n 0   1stFlrSF       1460 non-null   int64  \n 1   2ndFlrSF       1374 non-null   float64\n 2   BedroomAbvGr   1361 non-null   float64\n 3   BsmtExposure   1460 non-null   object \n 4   BsmtFinSF1     1460 non-null   int64  \n 5   BsmtFinType1   1346 non-null   object \n 6   BsmtUnfSF      1460 non-null   int64  \n 7   EnclosedPorch  136 non-null    float64\n 8   GarageArea     1460 non-null   int64  \n 9   GarageFinish   1298 non-null   object \n 10  GarageYrBlt    1379 non-null   float64\n 11  GrLivArea      1460 non-null   int64  \n 12  KitchenQual    1460 non-null   object \n 13  LotArea        1460 non-null   int64  \n 14  LotFrontage    1201 non-null   float64\n 15  MasVnrArea     1452 non-null   float64\n 16  OpenPorchSF    1460 non-null   int64  \n 17  OverallCond    1460 non-null   int64  \n 18  OverallQual    1460 non-null   int64  \n 19  TotalBsmtSF    1460 non-null   int64  \n 20  WoodDeckSF     155 non-null    float64\n 21  YearBuilt      1460 non-null   int64  \n 22  YearRemodAdd   1460 non-null   int64  \n 23  SalePrice      1460 non-null   int64  \ndtypes: float64(7), int64(13), object(4)\nmemory usage: 273.9+ KB\n"
        }
      ],
      "source": [
        "df.info()"
      ]
    },
    {
      "cell_type": "code",
      "execution_count": 9,
      "metadata": {},
      "outputs": [
        {
          "output_type": "execute_result",
          "data": {
            "text/plain": "   1stFlrSF  2ndFlrSF  BedroomAbvGr BsmtExposure  BsmtFinSF1 BsmtFinType1  \\\n0       896         0             2           No       468.0          Rec   \n1      1329         0             3           No       923.0          ALQ   \n2       928       701             3           No       791.0          GLQ   \n3       926       678             3           No       602.0          GLQ   \n\n   BsmtUnfSF  EnclosedPorch  GarageArea GarageFinish  ...  LotArea  \\\n0      270.0              0       730.0          Unf  ...    11622   \n1      406.0              0       312.0          Unf  ...    14267   \n2      137.0              0       482.0          Fin  ...    13830   \n3      324.0              0       470.0          Fin  ...     9978   \n\n   LotFrontage MasVnrArea  OpenPorchSF  OverallCond  OverallQual  TotalBsmtSF  \\\n0         80.0        0.0            0            6            5        882.0   \n1         81.0      108.0           36            6            6       1329.0   \n2         74.0        0.0           34            5            5        928.0   \n3         78.0       20.0           36            6            6        926.0   \n\n   WoodDeckSF  YearBuilt  YearRemodAdd  \n0         140       1961          1961  \n1         393       1958          1958  \n2         212       1997          1998  \n3         360       1998          1998  \n\n[4 rows x 23 columns]",
            "text/html": "<div>\n<style scoped>\n    .dataframe tbody tr th:only-of-type {\n        vertical-align: middle;\n    }\n\n    .dataframe tbody tr th {\n        vertical-align: top;\n    }\n\n    .dataframe thead th {\n        text-align: right;\n    }\n</style>\n<table border=\"1\" class=\"dataframe\">\n  <thead>\n    <tr style=\"text-align: right;\">\n      <th></th>\n      <th>1stFlrSF</th>\n      <th>2ndFlrSF</th>\n      <th>BedroomAbvGr</th>\n      <th>BsmtExposure</th>\n      <th>BsmtFinSF1</th>\n      <th>BsmtFinType1</th>\n      <th>BsmtUnfSF</th>\n      <th>EnclosedPorch</th>\n      <th>GarageArea</th>\n      <th>GarageFinish</th>\n      <th>...</th>\n      <th>LotArea</th>\n      <th>LotFrontage</th>\n      <th>MasVnrArea</th>\n      <th>OpenPorchSF</th>\n      <th>OverallCond</th>\n      <th>OverallQual</th>\n      <th>TotalBsmtSF</th>\n      <th>WoodDeckSF</th>\n      <th>YearBuilt</th>\n      <th>YearRemodAdd</th>\n    </tr>\n  </thead>\n  <tbody>\n    <tr>\n      <th>0</th>\n      <td>896</td>\n      <td>0</td>\n      <td>2</td>\n      <td>No</td>\n      <td>468.0</td>\n      <td>Rec</td>\n      <td>270.0</td>\n      <td>0</td>\n      <td>730.0</td>\n      <td>Unf</td>\n      <td>...</td>\n      <td>11622</td>\n      <td>80.0</td>\n      <td>0.0</td>\n      <td>0</td>\n      <td>6</td>\n      <td>5</td>\n      <td>882.0</td>\n      <td>140</td>\n      <td>1961</td>\n      <td>1961</td>\n    </tr>\n    <tr>\n      <th>1</th>\n      <td>1329</td>\n      <td>0</td>\n      <td>3</td>\n      <td>No</td>\n      <td>923.0</td>\n      <td>ALQ</td>\n      <td>406.0</td>\n      <td>0</td>\n      <td>312.0</td>\n      <td>Unf</td>\n      <td>...</td>\n      <td>14267</td>\n      <td>81.0</td>\n      <td>108.0</td>\n      <td>36</td>\n      <td>6</td>\n      <td>6</td>\n      <td>1329.0</td>\n      <td>393</td>\n      <td>1958</td>\n      <td>1958</td>\n    </tr>\n    <tr>\n      <th>2</th>\n      <td>928</td>\n      <td>701</td>\n      <td>3</td>\n      <td>No</td>\n      <td>791.0</td>\n      <td>GLQ</td>\n      <td>137.0</td>\n      <td>0</td>\n      <td>482.0</td>\n      <td>Fin</td>\n      <td>...</td>\n      <td>13830</td>\n      <td>74.0</td>\n      <td>0.0</td>\n      <td>34</td>\n      <td>5</td>\n      <td>5</td>\n      <td>928.0</td>\n      <td>212</td>\n      <td>1997</td>\n      <td>1998</td>\n    </tr>\n    <tr>\n      <th>3</th>\n      <td>926</td>\n      <td>678</td>\n      <td>3</td>\n      <td>No</td>\n      <td>602.0</td>\n      <td>GLQ</td>\n      <td>324.0</td>\n      <td>0</td>\n      <td>470.0</td>\n      <td>Fin</td>\n      <td>...</td>\n      <td>9978</td>\n      <td>78.0</td>\n      <td>20.0</td>\n      <td>36</td>\n      <td>6</td>\n      <td>6</td>\n      <td>926.0</td>\n      <td>360</td>\n      <td>1998</td>\n      <td>1998</td>\n    </tr>\n  </tbody>\n</table>\n<p>4 rows × 23 columns</p>\n</div>"
          },
          "metadata": {},
          "execution_count": 9
        }
      ],
      "source": [
        "dfa = pd.read_csv(f\"inputs/datasets/raw/inherited_houses.csv\")\n",
        "dfa.head(20)"
      ]
    },
    {
      "cell_type": "code",
      "execution_count": 10,
      "metadata": {
        "tags": []
      },
      "outputs": [
        {
          "output_type": "stream",
          "name": "stdout",
          "text": "<class 'pandas.core.frame.DataFrame'>\nRangeIndex: 4 entries, 0 to 3\nData columns (total 23 columns):\n #   Column         Non-Null Count  Dtype  \n---  ------         --------------  -----  \n 0   1stFlrSF       4 non-null      int64  \n 1   2ndFlrSF       4 non-null      int64  \n 2   BedroomAbvGr   4 non-null      int64  \n 3   BsmtExposure   4 non-null      object \n 4   BsmtFinSF1     4 non-null      float64\n 5   BsmtFinType1   4 non-null      object \n 6   BsmtUnfSF      4 non-null      float64\n 7   EnclosedPorch  4 non-null      int64  \n 8   GarageArea     4 non-null      float64\n 9   GarageFinish   4 non-null      object \n 10  GarageYrBlt    4 non-null      float64\n 11  GrLivArea      4 non-null      int64  \n 12  KitchenQual    4 non-null      object \n 13  LotArea        4 non-null      int64  \n 14  LotFrontage    4 non-null      float64\n 15  MasVnrArea     4 non-null      float64\n 16  OpenPorchSF    4 non-null      int64  \n 17  OverallCond    4 non-null      int64  \n 18  OverallQual    4 non-null      int64  \n 19  TotalBsmtSF    4 non-null      float64\n 20  WoodDeckSF     4 non-null      int64  \n 21  YearBuilt      4 non-null      int64  \n 22  YearRemodAdd   4 non-null      int64  \ndtypes: float64(7), int64(12), object(4)\nmemory usage: 864.0+ bytes\n"
        }
      ],
      "source": [
        "dfa.info()"
      ]
    },
    {
      "cell_type": "code",
      "execution_count": null,
      "metadata": {},
      "outputs": [],
      "source": [
        "After checking the house-metadata.txt file we can see that it just provides some insight into what the data variables are."
      ]
    },
    {
      "source": [
        "NOTE"
      ],
      "cell_type": "code",
      "metadata": {},
      "execution_count": null,
      "outputs": []
    },
    {
      "cell_type": "markdown",
      "metadata": {},
      "source": [
        "* You may add as many sections as you want, as long as they support your project workflow.\n",
        "* All notebook's cells should be run top-down (you can't create a dynamic wherein a given point you need to go back to a previous cell to execute some task, like go back to a previous cell and refresh a variable content)"
      ]
    },
    {
      "cell_type": "markdown",
      "metadata": {},
      "source": [
        "---"
      ]
    },
    {
      "cell_type": "markdown",
      "metadata": {
        "id": "ltNetd085qHf"
      },
      "source": [
        "# Push files to Repo"
      ]
    },
    {
      "cell_type": "markdown",
      "metadata": {},
      "source": [
        "* If you do not need to push files to Repo, you may replace this section with \"Conclusions and Next Steps\" and state your conclusions and next steps."
      ]
    },
    {
      "cell_type": "code",
      "execution_count": null,
      "metadata": {
        "id": "aKlnIozA4eQO",
        "outputId": "fd09bc1f-adb1-4511-f6ce-492a6af570c0"
      },
      "outputs": [],
      "source": [
        "import os\n",
        "try:\n",
        "  # create here your folder\n",
        "  # os.makedirs(name='')\n",
        "except Exception as e:\n",
        "  print(e)\n"
      ]
    }
  ],
  "metadata": {
    "accelerator": "GPU",
    "colab": {
      "name": "Data Practitioner Jupyter Notebook.ipynb",
      "provenance": [],
      "toc_visible": true
    },
    "interpreter": {
      "hash": "8b8334dab9339717f727a1deaf837b322d7a41c20d15cc86be99a8e69ceec8ce"
    },
    "kernelspec": {
      "display_name": "Python 3.8.12 64-bit ('3.8.12': pyenv)",
      "name": "python381264bit3812pyenv94c92ee8e906455785fd2378d26e9baf"
    },
    "language_info": {
      "codemirror_mode": {
        "name": "ipython",
        "version": 3
      },
      "file_extension": ".py",
      "mimetype": "text/x-python",
      "name": "python",
      "nbconvert_exporter": "python",
      "pygments_lexer": "ipython3",
      "version": "3.8.12-final"
    },
    "orig_nbformat": 2
  },
  "nbformat": 4,
  "nbformat_minor": 2
}